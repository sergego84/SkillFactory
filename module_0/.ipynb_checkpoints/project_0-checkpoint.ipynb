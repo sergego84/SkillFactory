{
 "cells": [
  {
   "cell_type": "code",
   "execution_count": 3,
   "metadata": {},
   "outputs": [
    {
     "name": "stdout",
     "output_type": "stream",
     "text": [
      "Ваш алгоритм угадывает число в среднем за 6 попыток\n"
     ]
    }
   ],
   "source": [
    "import numpy as np\n",
    "\n",
    "def score_game(game_core):\n",
    "    '''Function that creates an array of 1000 random numbers and\n",
    "    applies guessing algorithm to each number. The result is an average of 1000 iterations.'''\n",
    "    count_ls = [] #List that holds results of an algorithm\n",
    "    \n",
    "    np.random.seed(1)  #Setting up random seed for debugging purposes\n",
    "    random_array = np.random.randint(1,101, size=(1000)) #Populates an array of 1000 random numbers\n",
    "    for number in random_array:\n",
    "        count_ls.append(game_core(number))\n",
    "    score = int(np.mean(count_ls)) #Average of values inside the list with results\n",
    "    \n",
    "    print(f\"Ваш алгоритм угадывает число в среднем за {score} попыток\")\n",
    "\n",
    "    return\n",
    "\n",
    "\n",
    "def game_core_v3(number):\n",
    "    '''Function that generates a random guess (prediction) and compares it to the random\n",
    "    number generated inside the array earlier.  The prediction is then changed based on the conditional\n",
    "    statement. The result is the number of tries it took to guess the number. The algorithm used by this \n",
    "    function is also called binary search or half-interval search.'''\n",
    "    count = 1 #Resets the counter\n",
    "    limit_low = 1\n",
    "    limit_high = 100\n",
    "    prediction = np.random.randint(1,101) #Generates new prediction\n",
    "    while number != prediction:\n",
    "        #Loop that keeps track of number of tries and sets up new lower and higher limits\n",
    "        #for next prediction according to conditional statement. New prediction is \n",
    "        #then set as a median of new range.\n",
    "        count+=1\n",
    "        if number > prediction: \n",
    "            limit_low = prediction + 1\n",
    "        elif number < prediction: \n",
    "            limit_high = prediction - 1\n",
    "        prediction = (limit_low+limit_high)//2\n",
    "    \n",
    "    return(count)\n",
    "\n",
    "\n",
    "score_game(game_core_v3)"
   ]
  },
  {
   "cell_type": "code",
   "execution_count": null,
   "metadata": {},
   "outputs": [],
   "source": []
  }
 ],
 "metadata": {
  "kernelspec": {
   "display_name": "Python 3",
   "language": "python",
   "name": "python3"
  },
  "language_info": {
   "codemirror_mode": {
    "name": "ipython",
    "version": 3
   },
   "file_extension": ".py",
   "mimetype": "text/x-python",
   "name": "python",
   "nbconvert_exporter": "python",
   "pygments_lexer": "ipython3",
   "version": "3.8.3"
  }
 },
 "nbformat": 4,
 "nbformat_minor": 4
}
